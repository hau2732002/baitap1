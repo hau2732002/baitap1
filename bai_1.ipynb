{
 "cells": [
  {
   "cell_type": "code",
   "execution_count": 9,
   "id": "c73ed5ac",
   "metadata": {},
   "outputs": [
    {
     "name": "stdout",
     "output_type": "stream",
     "text": [
      "Kích thước của coffee_image là: (400, 600, 3)\n",
      "Kích thước của coins_image là: (303, 384)\n"
     ]
    }
   ],
   "source": [
    "\n",
    "from skimage import data\n",
    "\n",
    "coffee_image = data.coffee()\n",
    "coins_image = data.coins()\n",
    "\n",
    "print(\"Kích thước của coffee_image là:\", coffee_image.shape)\n",
    "print(\"Kích thước của coins_image là:\", coins_image.shape)"
   ]
  },
  {
   "cell_type": "code",
   "execution_count": null,
   "id": "f126b40b",
   "metadata": {},
   "outputs": [],
   "source": []
  }
 ],
 "metadata": {
  "kernelspec": {
   "display_name": "Python 3 (ipykernel)",
   "language": "python",
   "name": "python3"
  },
  "language_info": {
   "codemirror_mode": {
    "name": "ipython",
    "version": 3
   },
   "file_extension": ".py",
   "mimetype": "text/x-python",
   "name": "python",
   "nbconvert_exporter": "python",
   "pygments_lexer": "ipython3",
   "version": "3.10.9"
  }
 },
 "nbformat": 4,
 "nbformat_minor": 5
}
